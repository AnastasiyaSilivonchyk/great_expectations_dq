{
 "cells": [
  {
   "cell_type": "markdown",
   "id": "commercial-night",
   "metadata": {},
   "source": [
    "# Create a new sqlalchemy Datasource\n",
    "Use this notebook to configure a new sqlalchemy Datasource and add it to your project."
   ]
  },
  {
   "cell_type": "code",
   "execution_count": null,
   "id": "silent-pleasure",
   "metadata": {},
   "outputs": [],
   "source": [
    "import great_expectations as ge\n",
    "from great_expectations.cli.datasource import sanitize_yaml_and_save_datasource, check_if_datasource_name_exists\n",
    "context = ge.get_context()"
   ]
  },
  {
   "cell_type": "markdown",
   "id": "elder-convention",
   "metadata": {},
   "source": [
    "## Customize Your Datasource Configuration\n",
    "\n",
    "**If you are new to Great Expectations Datasources,** you should check out our [how-to documentation](https://docs.greatexpectations.io/en/latest/guides/how_to_guides/configuring_datasources.html)\n",
    "\n",
    "**My configuration is not so simple - are there more advanced options?**\n",
    "Glad you asked! Datasources are versatile. Please see our [How To Guides](https://docs.greatexpectations.io/en/latest/guides/how_to_guides/configuring_datasources.html)!\n",
    "\n",
    "Give your datasource a unique name:"
   ]
  },
  {
   "cell_type": "code",
   "execution_count": null,
   "id": "amber-province",
   "metadata": {},
   "outputs": [],
   "source": [
    "datasource_name = \"mssql_datasource\""
   ]
  },
  {
   "cell_type": "markdown",
   "id": "polyphonic-english",
   "metadata": {},
   "source": [
    "### For SQL based Datasources:\n",
    "\n",
    "Here we are creating an example configuration based on the database backend you specified in the CLI.  The configuration contains an **InferredAssetSqlDataConnector**, which will add a Data Asset for each table in the database, and a **RuntimeDataConnector** which can accept SQL queries. This is just an example, and you may customize this as you wish!\n",
    "\n",
    "Also, if you would like to learn more about the **DataConnectors** used in this configuration, please see our docs on [InferredAssetDataConnectors](https://docs.greatexpectations.io/en/latest/guides/how_to_guides/configuring_datasources/how_to_configure_an_inferredassetdataconnector.html) and [RuntimeDataConnectors](https://docs.greatexpectations.io/en/latest/guides/how_to_guides/creating_batches/how_to_configure_a_runtime_data_connector.html).\n",
    "\n",
    "Credentials will not be saved until you run the last cell. The credentials will be saved in `uncommitted/config_variables.yml` which should not be added to source control."
   ]
  },
  {
   "cell_type": "code",
   "execution_count": null,
   "id": "acute-colleague",
   "metadata": {},
   "outputs": [],
   "source": [
    "# The url/connection string for the sqlalchemy connection\n",
    "# (reference: https://docs.sqlalchemy.org/en/latest/core/engines.html#database-urls)\n",
    "connection_string = \"mssql+pyodbc://sa:1ExoticFruit2/@EPBYMOGW007C\\\\SQLEXPRESS/AdventureWorks2012?driver=ODBC+Driver+17+for+SQL+Server\""
   ]
  },
  {
   "cell_type": "code",
   "execution_count": null,
   "id": "cross-batman",
   "metadata": {},
   "outputs": [],
   "source": [
    "example_yaml = f\"\"\"\n",
    "name: {datasource_name}\n",
    "class_name: Datasource\n",
    "execution_engine:\n",
    "  class_name: SqlAlchemyExecutionEngine\n",
    "  connection_string: {connection_string}\n",
    "data_connectors:\n",
    "  default_runtime_data_connector_name:\n",
    "    class_name: RuntimeDataConnector\n",
    "    batch_identifiers:\n",
    "      - default_identifier_name\n",
    "  default_inferred_data_connector_name:\n",
    "    class_name: InferredAssetSqlDataConnector\n",
    "    name: whole_table\"\"\"\n",
    "print(example_yaml)"
   ]
  },
  {
   "cell_type": "markdown",
   "id": "outside-moldova",
   "metadata": {},
   "source": [
    "# Test Your Datasource Configuration\n",
    "Here we will test your Datasource configuration to make sure it is valid.\n",
    "\n",
    "This `test_yaml_config()` function is meant to enable fast dev loops. **If your\n",
    "configuration is correct, this cell will show you some snippets of the data\n",
    "assets in the data source.** You can continually edit your Datasource config\n",
    "yaml and re-run the cell to check until the new config is valid.\n",
    "\n",
    "If you instead wish to use python instead of yaml to configure your Datasource,\n",
    "you can use `context.add_datasource()` and specify all the required parameters."
   ]
  },
  {
   "cell_type": "code",
   "execution_count": null,
   "id": "complicated-tissue",
   "metadata": {},
   "outputs": [],
   "source": [
    "context.test_yaml_config(yaml_config=example_yaml)"
   ]
  },
  {
   "cell_type": "markdown",
   "id": "round-sensitivity",
   "metadata": {},
   "source": [
    "## Save Your Datasource Configuration\n",
    "Here we will save your Datasource in your Data Context once you are satisfied with the configuration. Note that `overwrite_existing` defaults to False, but you may change it to True if you wish to overwrite. Please note that if you wish to include comments you must add them directly to your `great_expectations.yml`."
   ]
  },
  {
   "cell_type": "code",
   "execution_count": null,
   "id": "neither-locking",
   "metadata": {},
   "outputs": [],
   "source": [
    "sanitize_yaml_and_save_datasource(context, example_yaml, overwrite_existing=False)\n",
    "context.list_datasources()"
   ]
  },
  {
   "cell_type": "markdown",
   "id": "painful-mission",
   "metadata": {},
   "source": [
    "Now you can close this notebook and delete it!"
   ]
  }
 ],
 "metadata": {
  "kernelspec": {
   "display_name": "Python 3 (ipykernel)",
   "language": "python",
   "name": "python3"
  },
  "language_info": {
   "codemirror_mode": {
    "name": "ipython",
    "version": 3
   },
   "file_extension": ".py",
   "mimetype": "text/x-python",
   "name": "python",
   "nbconvert_exporter": "python",
   "pygments_lexer": "ipython3",
   "version": "3.9.2"
  }
 },
 "nbformat": 4,
 "nbformat_minor": 5
}

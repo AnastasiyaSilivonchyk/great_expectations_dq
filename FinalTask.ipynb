{
 "cells": [
  {
   "cell_type": "code",
   "execution_count": null,
   "id": "7d1880fc",
   "metadata": {},
   "outputs": [],
   "source": [
    "import pandas as pd\n",
    "import numpy as np\n",
    "\n",
    "pAirports = 'gs://iskldl01-projectby-local-bucket/raw/airports'\n",
    "pCarriers = 'gs://iskldl01-projectby-local-bucket/raw/carriers'\n",
    "pFlights = 'gs://iskldl01-projectby-local-bucket/raw/flights'\n"
   ]
  },
  {
   "cell_type": "markdown",
   "id": "2c24fd44",
   "metadata": {},
   "source": [
    "__Declare Data Sets__"
   ]
  },
  {
   "cell_type": "code",
   "execution_count": null,
   "id": "ac2f2c4d",
   "metadata": {},
   "outputs": [],
   "source": [
    "dFights = sqlContext.read.parquet(pFlights).toPandas()\n",
    "\n",
    "sAirports = sqlContext.read.csv('gs://iskldl01-projectby-local-bucket/source/airports.csv').toPandas()\n",
    "dAirports = sqlContext.read.parquet(pAirports).toPandas()\n",
    "\n",
    "dCarrier = sqlContext.read.parquet(pCarriers).toPandas()"
   ]
  },
  {
   "cell_type": "markdown",
   "id": "cdb8cd78",
   "metadata": {},
   "source": [
    "__Airports: Completeness by sum (for numeric columns)__"
   ]
  },
  {
   "cell_type": "code",
   "execution_count": null,
   "id": "da91895c",
   "metadata": {},
   "outputs": [],
   "source": [
    "headers = sAirports.iloc[0]\n",
    "sAirports = sAirports[1:]\n",
    "sAirports.columns = headers\n",
    "\n",
    "\n",
    "sLat = sAirports['lat'].notnull().sum()\n",
    "sLong = sAirports['long'].notnull().sum()\n",
    "\n",
    "rLat = dAirports['lat'].notnull().sum()\n",
    "rLong = dAirports['longt'].notnull().sum()\n",
    "\n",
    "if sLat == rLat & sLong == rLong:\n",
    "    Status = 'Passed'\n",
    "    badData = ' '\n",
    "else:\n",
    "    Status = 'Failed'\n",
    "    badData = 'Source sum lat: ' + str(sLat) + ' Raw sum: ' + str(rLat) + '; ' + 'Source sum long: ' + str(sLong) + ' Raw sum: ' + str(rLong)"
   ]
  },
  {
   "cell_type": "markdown",
   "id": "9d17d963",
   "metadata": {},
   "source": [
    "__Flights: Validity by Time Range for ArrTime and ArrDepTime__"
   ]
  },
  {
   "cell_type": "code",
   "execution_count": null,
   "id": "009cecdc",
   "metadata": {},
   "outputs": [],
   "source": [
    "df = dFights[((dFights['ArrTime'] > '2359') & (dFights['ArrTime'] < '0000')) | ((dFights['DepTime'] > '2359') & (dFights['DepTime'] < '0000'))]\n",
    "\n",
    "if len(df) == 0:\n",
    "    Vstatus = 'Passed'\n",
    "    badData1 = ' '\n",
    "else:\n",
    "    Vstatus = 'Failed'\n",
    "    badData1 = df['FlightNum'].tolist()"
   ]
  },
  {
   "cell_type": "markdown",
   "id": "dfae12de",
   "metadata": {},
   "source": [
    "__Carrier: Uniqueness by PK__"
   ]
  },
  {
   "cell_type": "code",
   "execution_count": null,
   "id": "b2e315a5",
   "metadata": {},
   "outputs": [],
   "source": [
    "dupl = dCarrier.groupby(['code']).count()\n",
    "\n",
    "if len(dupl[dupl['description'] > 1]) > 0:\n",
    "    Ustatus = 'Failed'\n",
    "    badData2 = dupl[dupl['description'] > 1].reset_index().values.tolist()\n",
    "else:\n",
    "    Ustatus = 'Passed'\n",
    "    badData2 = ' '\n",
    "    \n",
    "print(badData2)"
   ]
  },
  {
   "cell_type": "markdown",
   "id": "a9578b4f",
   "metadata": {},
   "source": [
    "__Flights: Consistency check for CancellationCode__"
   ]
  },
  {
   "cell_type": "code",
   "execution_count": null,
   "id": "313244a1",
   "metadata": {},
   "outputs": [],
   "source": [
    "df2 = dFights[(dFights['CancellationCode'].isna()) & (dFights['Cancelled'] != 0)]\n",
    "df3 = dFights[(dFights['CancellationCode'].isin(['A','B','C'])) & (dFights['Cancelled'] != 1)]\n",
    "\n",
    "if len(df2) != 0 or len(df3) != 0:\n",
    "    Cstatus = 'Failed'\n",
    "    badData3 = df3['FlightNum'].tolist() + df2['FlightNum'].tolist()\n",
    "else:\n",
    "    Cstatus = 'Passed'\n",
    "    badData3 = ' '"
   ]
  },
  {
   "cell_type": "markdown",
   "id": "04fd0dd6",
   "metadata": {},
   "source": [
    "__Return results as a table in Notebook__"
   ]
  },
  {
   "cell_type": "code",
   "execution_count": null,
   "id": "f0ed7030",
   "metadata": {},
   "outputs": [],
   "source": [
    "tableValue = [[1, 'Airports', 'Completness', 'lat, long', Status, badData],\n",
    "              [2, 'Flights', 'Validity', 'ArrTime, DepTime', Vstatus, badData1],\n",
    "              [3, 'Carrier', 'Uniqueness', 'code, description', Ustatus, badData2],\n",
    "              [4, 'Flights', 'Consistency', 'CancellationCode, Cancelled', Cstatus, badData3]]\n",
    "\n",
    "table = pd.DataFrame(tableValue, columns = ['#', 'Table', 'DQCheck', 'Column', 'Status', 'Bad Data'])\n",
    "\n",
    "print(table)\n"
   ]
  },
  {
   "cell_type": "markdown",
   "id": "e5b30d4d",
   "metadata": {},
   "source": [
    "__Write results as HTML__"
   ]
  },
  {
   "cell_type": "code",
   "execution_count": null,
   "id": "84da98c5",
   "metadata": {},
   "outputs": [],
   "source": [
    "html = table.to_html()\n",
    "\n",
    "text_file = open(\"index.html\", \"w\")\n",
    "text_file.write(html)\n",
    "text_file.close()\n",
    "\n",
    "print(\"Finish tests\")"
   ]
  }
 ],
 "metadata": {
  "kernelspec": {
   "display_name": "Local PySpark (Python-3.7.9 / Spark-3.0.1 )",
   "language": "python",
   "name": "py3spark_local"
  },
  "language_info": {
   "codemirror_mode": {
    "name": "ipython",
    "version": 3
   },
   "file_extension": ".py",
   "mimetype": "text/x-python",
   "name": "python",
   "nbconvert_exporter": "python",
   "pygments_lexer": "ipython3",
   "version": "3.7.9"
  }
 },
 "nbformat": 4,
 "nbformat_minor": 5
}

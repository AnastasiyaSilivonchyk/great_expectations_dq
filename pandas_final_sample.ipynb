{
 "cells": [
  {
   "cell_type": "code",
   "execution_count": 35,
   "metadata": {},
   "outputs": [],
   "source": [
    "import pandas as pd\n",
    "\n",
    "from pyspark.sql import SQLContext"
   ]
  },
  {
   "cell_type": "code",
   "execution_count": 36,
   "metadata": {},
   "outputs": [],
   "source": [
    "carriers_data = pd.DataFrame()\n",
    "carriers_data = sqlContext.read.parquet('gs://iskldl01-projectby-local-bucket/raw/carriers').toPandas()\n",
    "flights_data = pd.DataFrame()\n",
    "flights_data = sqlContext.read.parquet('gs://iskldl01-projectby-local-bucket/raw/flights').toPandas()\n",
    "airports_data = pd.DataFrame()\n",
    "airports_data = sqlContext.read.parquet('gs://iskldl01-projectby-local-bucket/raw/airports').toPandas()"
   ]
  },
  {
   "cell_type": "code",
   "execution_count": 37,
   "metadata": {},
   "outputs": [],
   "source": [
    "def check_completeness_non_null(df, name):\n",
    "    null_counts = df.isna().sum()\n",
    "    bad_data = null_counts[null_counts > 0].sort_values(ascending=False)\n",
    "    df.name = name\n",
    "    if len(bad_data) == 0:\n",
    "        status = 'Passed'\n",
    "    else:\n",
    "        status = 'Failed'\n",
    "        bad_data = null_counts[null_counts > 0].sort_values(ascending=False)\n",
    "    result = [df.name, 'Completeness non null', 'All', status, str(bad_data)]\n",
    "    return result\n",
    "    print(result)"
   ]
  },
  {
   "cell_type": "code",
   "execution_count": 38,
   "metadata": {},
   "outputs": [],
   "source": [
    "def check_uniqueness_by_pk(df, name, keys):\n",
    "    df.name = name\n",
    "    for key in keys:\n",
    "        df_test =df.loc[:, key]\n",
    "        bad_data = df_test[df_test.duplicated()]\n",
    "        if bad_data is None:\n",
    "            status = 'Passed'\n",
    "        else:\n",
    "            status = 'Failed'\n",
    "        result = [name,'Uniqueness by PK', keys,status, str(bad_data)]\n",
    "    return result"
   ]
  },
  {
   "cell_type": "code",
   "execution_count": 39,
   "metadata": {},
   "outputs": [],
   "source": [
    "def check_consistency_w_formula(df, name, column_name, arg1, arg2):\n",
    "    df.name = name\n",
    "    count = 0\n",
    "    bad_data = []\n",
    "    status = 'Passed'\n",
    "    main_data = df[column_name].apply(lambda x: str(x).replace('NA', '0') if str(x)=='NA' else x)\n",
    "    arg1_data = df[arg1].apply(lambda x: str(x).replace('NA', '0') if str(x)=='NA' else x)\n",
    "    arg2_data = df[arg2].apply(lambda x: str(x).replace('NA', '0') if str(x)=='NA' else x)\n",
    "    df_test = pd.to_numeric(main_data)\n",
    "    df_test2 = pd.to_numeric(arg1_data) - pd.to_numeric(arg2_data)\n",
    "\n",
    "    for item in df_test:\n",
    "        if df_test[count] == df_test2[count]:\n",
    "            count +=1\n",
    "        else:\n",
    "            status = 'Failed'\n",
    "            bad_data.append(count)\n",
    "            count +=1\n",
    "    result = [df.name,'Consistency', column_name, status, str(bad_data)]\n",
    "    return result"
   ]
  },
  {
   "cell_type": "code",
   "execution_count": 40,
   "metadata": {},
   "outputs": [],
   "source": [
    "def check_constistency(df, name, test_col, sample_df, sample_col):\n",
    "    bad_data = []\n",
    "    status = 'Passed'\n",
    "    df.name = name\n",
    "    sample = sample_df.loc[:, sample_col].unique()\n",
    "    test = df.loc[:, test_col].unique()\n",
    "    for item in test:\n",
    "        if item in sample:\n",
    "            continue\n",
    "        else:\n",
    "            status = 'Failed'\n",
    "            bad_data.append(item)\n",
    "    result = [df.name, 'Consistency', test_col, status,str(bad_data)]\n",
    "    return result"
   ]
  },
  {
   "cell_type": "code",
   "execution_count": 41,
   "metadata": {},
   "outputs": [],
   "source": [
    "test_data = [check_completeness_non_null(carriers_data, 'Carrier'),\n",
    "            check_uniqueness_by_pk(airports_data, 'Airports', ['iata']),\n",
    "            check_consistency_w_formula(flights_data, 'Flights', 'DepDelay','DepTime','CRSDepTime'),\n",
    "            check_constistency(flights_data, 'Flights', 'UniqueCarrier', carriers_data, 'code')]"
   ]
  },
  {
   "cell_type": "code",
   "execution_count": 42,
   "metadata": {},
   "outputs": [
    {
     "data": {
      "text/html": [
       "<div>\n",
       "<style scoped>\n",
       "    .dataframe tbody tr th:only-of-type {\n",
       "        vertical-align: middle;\n",
       "    }\n",
       "\n",
       "    .dataframe tbody tr th {\n",
       "        vertical-align: top;\n",
       "    }\n",
       "\n",
       "    .dataframe thead th {\n",
       "        text-align: right;\n",
       "    }\n",
       "</style>\n",
       "<table border=\"1\" class=\"dataframe\">\n",
       "  <thead>\n",
       "    <tr style=\"text-align: right;\">\n",
       "      <th></th>\n",
       "      <th>Table</th>\n",
       "      <th>DQ Check</th>\n",
       "      <th>Columns</th>\n",
       "      <th>Status</th>\n",
       "      <th>Bad Data</th>\n",
       "    </tr>\n",
       "  </thead>\n",
       "  <tbody>\n",
       "    <tr>\n",
       "      <th>1</th>\n",
       "      <td>Carrier</td>\n",
       "      <td>Completeness non null</td>\n",
       "      <td>All</td>\n",
       "      <td>Passed</td>\n",
       "      <td>Series([], dtype: int64)</td>\n",
       "    </tr>\n",
       "    <tr>\n",
       "      <th>2</th>\n",
       "      <td>Airports</td>\n",
       "      <td>Uniqueness by PK</td>\n",
       "      <td>[iata]</td>\n",
       "      <td>Failed</td>\n",
       "      <td>1686    Z08\\n1687    Z09\\n1688    Z13\\n1689   ...</td>\n",
       "    </tr>\n",
       "    <tr>\n",
       "      <th>3</th>\n",
       "      <td>Flights</td>\n",
       "      <td>Consistency</td>\n",
       "      <td>DepDelay</td>\n",
       "      <td>Failed</td>\n",
       "      <td>[0, 1, 2, 5, 15, 16, 17, 18, 19, 20, 36, 39, 4...</td>\n",
       "    </tr>\n",
       "    <tr>\n",
       "      <th>4</th>\n",
       "      <td>Flights</td>\n",
       "      <td>Consistency</td>\n",
       "      <td>UniqueCarrier</td>\n",
       "      <td>Failed</td>\n",
       "      <td>['AXX', '1B9']</td>\n",
       "    </tr>\n",
       "  </tbody>\n",
       "</table>\n",
       "</div>"
      ],
      "text/plain": [
       "      Table               DQ Check        Columns  Status  \\\n",
       "1   Carrier  Completeness non null            All  Passed   \n",
       "2  Airports       Uniqueness by PK         [iata]  Failed   \n",
       "3   Flights            Consistency       DepDelay  Failed   \n",
       "4   Flights            Consistency  UniqueCarrier  Failed   \n",
       "\n",
       "                                            Bad Data  \n",
       "1                           Series([], dtype: int64)  \n",
       "2  1686    Z08\\n1687    Z09\\n1688    Z13\\n1689   ...  \n",
       "3  [0, 1, 2, 5, 15, 16, 17, 18, 19, 20, 36, 39, 4...  \n",
       "4                                     ['AXX', '1B9']  "
      ]
     },
     "metadata": {},
     "output_type": "display_data"
    }
   ],
   "source": [
    "df = pd.DataFrame(test_data, index  = [1,2,3,4], columns = ['Table', 'DQ Check', 'Columns', 'Status', 'Bad Data']) \n",
    "display(df)"
   ]
  },
  {
   "cell_type": "code",
   "execution_count": null,
   "metadata": {},
   "outputs": [],
   "source": []
  }
 ],
 "metadata": {
  "kernelspec": {
   "display_name": "Local PySpark (Python-3.5 / Spark-2.4.4 )",
   "language": "python",
   "name": "py3spark_local"
  },
  "language_info": {
   "codemirror_mode": {
    "name": "ipython",
    "version": 3
   },
   "file_extension": ".py",
   "mimetype": "text/x-python",
   "name": "python",
   "nbconvert_exporter": "python",
   "pygments_lexer": "ipython3",
   "version": "3.5.2"
  }
 },
 "nbformat": 4,
 "nbformat_minor": 4
}
